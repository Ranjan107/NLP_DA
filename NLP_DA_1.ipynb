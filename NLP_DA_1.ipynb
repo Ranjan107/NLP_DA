{
 "cells": [
  {
   "cell_type": "code",
   "execution_count": 1,
   "id": "7983fc4a",
   "metadata": {},
   "outputs": [],
   "source": [
    "import nltk\n",
    "from nltk.corpus import brown"
   ]
  },
  {
   "cell_type": "markdown",
   "id": "8e10dea1",
   "metadata": {},
   "source": [
    "# Exploring Brown Corpus"
   ]
  },
  {
   "cell_type": "code",
   "execution_count": 2,
   "id": "e9a88e77",
   "metadata": {},
   "outputs": [
    {
     "name": "stdout",
     "output_type": "stream",
     "text": [
      "['The', 'Fulton', 'County', 'Grand', 'Jury', 'said', ...]\n"
     ]
    }
   ],
   "source": [
    "#Explore Brown Corpus\n",
    "print(brown.words())"
   ]
  },
  {
   "cell_type": "code",
   "execution_count": 3,
   "id": "d9dd304f",
   "metadata": {},
   "outputs": [
    {
     "data": {
      "text/plain": [
       "15667"
      ]
     },
     "execution_count": 3,
     "metadata": {},
     "output_type": "execute_result"
    }
   ],
   "source": [
    "#Number of paragraphs\n",
    "paras = brown.paras()\n",
    "len(paras)"
   ]
  },
  {
   "cell_type": "code",
   "execution_count": 4,
   "id": "6564336f",
   "metadata": {},
   "outputs": [
    {
     "name": "stdout",
     "output_type": "stream",
     "text": [
      "['ca01', 'ca02', 'ca03', 'ca04', 'ca05', 'ca06', 'ca07', 'ca08', 'ca09', 'ca10', 'ca11', 'ca12', 'ca13', 'ca14', 'ca15', 'ca16', 'ca17', 'ca18', 'ca19', 'ca20', 'ca21', 'ca22', 'ca23', 'ca24', 'ca25', 'ca26', 'ca27', 'ca28', 'ca29', 'ca30', 'ca31', 'ca32', 'ca33', 'ca34', 'ca35', 'ca36', 'ca37', 'ca38', 'ca39', 'ca40', 'ca41', 'ca42', 'ca43', 'ca44', 'cb01', 'cb02', 'cb03', 'cb04', 'cb05', 'cb06', 'cb07', 'cb08', 'cb09', 'cb10', 'cb11', 'cb12', 'cb13', 'cb14', 'cb15', 'cb16', 'cb17', 'cb18', 'cb19', 'cb20', 'cb21', 'cb22', 'cb23', 'cb24', 'cb25', 'cb26', 'cb27', 'cc01', 'cc02', 'cc03', 'cc04', 'cc05', 'cc06', 'cc07', 'cc08', 'cc09', 'cc10', 'cc11', 'cc12', 'cc13', 'cc14', 'cc15', 'cc16', 'cc17', 'cd01', 'cd02', 'cd03', 'cd04', 'cd05', 'cd06', 'cd07', 'cd08', 'cd09', 'cd10', 'cd11', 'cd12', 'cd13', 'cd14', 'cd15', 'cd16', 'cd17', 'ce01', 'ce02', 'ce03', 'ce04', 'ce05', 'ce06', 'ce07', 'ce08', 'ce09', 'ce10', 'ce11', 'ce12', 'ce13', 'ce14', 'ce15', 'ce16', 'ce17', 'ce18', 'ce19', 'ce20', 'ce21', 'ce22', 'ce23', 'ce24', 'ce25', 'ce26', 'ce27', 'ce28', 'ce29', 'ce30', 'ce31', 'ce32', 'ce33', 'ce34', 'ce35', 'ce36', 'cf01', 'cf02', 'cf03', 'cf04', 'cf05', 'cf06', 'cf07', 'cf08', 'cf09', 'cf10', 'cf11', 'cf12', 'cf13', 'cf14', 'cf15', 'cf16', 'cf17', 'cf18', 'cf19', 'cf20', 'cf21', 'cf22', 'cf23', 'cf24', 'cf25', 'cf26', 'cf27', 'cf28', 'cf29', 'cf30', 'cf31', 'cf32', 'cf33', 'cf34', 'cf35', 'cf36', 'cf37', 'cf38', 'cf39', 'cf40', 'cf41', 'cf42', 'cf43', 'cf44', 'cf45', 'cf46', 'cf47', 'cf48', 'cg01', 'cg02', 'cg03', 'cg04', 'cg05', 'cg06', 'cg07', 'cg08', 'cg09', 'cg10', 'cg11', 'cg12', 'cg13', 'cg14', 'cg15', 'cg16', 'cg17', 'cg18', 'cg19', 'cg20', 'cg21', 'cg22', 'cg23', 'cg24', 'cg25', 'cg26', 'cg27', 'cg28', 'cg29', 'cg30', 'cg31', 'cg32', 'cg33', 'cg34', 'cg35', 'cg36', 'cg37', 'cg38', 'cg39', 'cg40', 'cg41', 'cg42', 'cg43', 'cg44', 'cg45', 'cg46', 'cg47', 'cg48', 'cg49', 'cg50', 'cg51', 'cg52', 'cg53', 'cg54', 'cg55', 'cg56', 'cg57', 'cg58', 'cg59', 'cg60', 'cg61', 'cg62', 'cg63', 'cg64', 'cg65', 'cg66', 'cg67', 'cg68', 'cg69', 'cg70', 'cg71', 'cg72', 'cg73', 'cg74', 'cg75', 'ch01', 'ch02', 'ch03', 'ch04', 'ch05', 'ch06', 'ch07', 'ch08', 'ch09', 'ch10', 'ch11', 'ch12', 'ch13', 'ch14', 'ch15', 'ch16', 'ch17', 'ch18', 'ch19', 'ch20', 'ch21', 'ch22', 'ch23', 'ch24', 'ch25', 'ch26', 'ch27', 'ch28', 'ch29', 'ch30', 'cj01', 'cj02', 'cj03', 'cj04', 'cj05', 'cj06', 'cj07', 'cj08', 'cj09', 'cj10', 'cj11', 'cj12', 'cj13', 'cj14', 'cj15', 'cj16', 'cj17', 'cj18', 'cj19', 'cj20', 'cj21', 'cj22', 'cj23', 'cj24', 'cj25', 'cj26', 'cj27', 'cj28', 'cj29', 'cj30', 'cj31', 'cj32', 'cj33', 'cj34', 'cj35', 'cj36', 'cj37', 'cj38', 'cj39', 'cj40', 'cj41', 'cj42', 'cj43', 'cj44', 'cj45', 'cj46', 'cj47', 'cj48', 'cj49', 'cj50', 'cj51', 'cj52', 'cj53', 'cj54', 'cj55', 'cj56', 'cj57', 'cj58', 'cj59', 'cj60', 'cj61', 'cj62', 'cj63', 'cj64', 'cj65', 'cj66', 'cj67', 'cj68', 'cj69', 'cj70', 'cj71', 'cj72', 'cj73', 'cj74', 'cj75', 'cj76', 'cj77', 'cj78', 'cj79', 'cj80', 'ck01', 'ck02', 'ck03', 'ck04', 'ck05', 'ck06', 'ck07', 'ck08', 'ck09', 'ck10', 'ck11', 'ck12', 'ck13', 'ck14', 'ck15', 'ck16', 'ck17', 'ck18', 'ck19', 'ck20', 'ck21', 'ck22', 'ck23', 'ck24', 'ck25', 'ck26', 'ck27', 'ck28', 'ck29', 'cl01', 'cl02', 'cl03', 'cl04', 'cl05', 'cl06', 'cl07', 'cl08', 'cl09', 'cl10', 'cl11', 'cl12', 'cl13', 'cl14', 'cl15', 'cl16', 'cl17', 'cl18', 'cl19', 'cl20', 'cl21', 'cl22', 'cl23', 'cl24', 'cm01', 'cm02', 'cm03', 'cm04', 'cm05', 'cm06', 'cn01', 'cn02', 'cn03', 'cn04', 'cn05', 'cn06', 'cn07', 'cn08', 'cn09', 'cn10', 'cn11', 'cn12', 'cn13', 'cn14', 'cn15', 'cn16', 'cn17', 'cn18', 'cn19', 'cn20', 'cn21', 'cn22', 'cn23', 'cn24', 'cn25', 'cn26', 'cn27', 'cn28', 'cn29', 'cp01', 'cp02', 'cp03', 'cp04', 'cp05', 'cp06', 'cp07', 'cp08', 'cp09', 'cp10', 'cp11', 'cp12', 'cp13', 'cp14', 'cp15', 'cp16', 'cp17', 'cp18', 'cp19', 'cp20', 'cp21', 'cp22', 'cp23', 'cp24', 'cp25', 'cp26', 'cp27', 'cp28', 'cp29', 'cr01', 'cr02', 'cr03', 'cr04', 'cr05', 'cr06', 'cr07', 'cr08', 'cr09']\n"
     ]
    }
   ],
   "source": [
    "#Files in brown corpus\n",
    "files = nltk.corpus.brown.fileids()\n",
    "print(files)"
   ]
  },
  {
   "cell_type": "code",
   "execution_count": 5,
   "id": "334cc05a",
   "metadata": {},
   "outputs": [
    {
     "data": {
      "text/plain": [
       "\"\\n\\n\\tVincent/np G./np Ierulli/np has/hvz been/ben appointed/vbn temporary/jj assistant/nn district/nn attorney/nn ,/, it/pps was/bedz announced/vbn Monday/nr by/in Charles/np E./np Raymond/np ,/, District/nn-tl Attorney/nn-tl ./.\\n\\n\\n\\tIerulli/np will/md replace/vb Desmond/np D./np Connall/np who/wps has/hvz been/ben called/vbn to/in active/jj military/jj service/nn but/cc is/bez expected/vbn back/rb on/in the/at job/nn by/in March/np 31/cd ./.\\n\\n\\n\\tIerulli/np ,/, 29/cd ,/, has/hvz been/ben practicing/vbg in/in Portland/np since/in November/np ,/, 1959/cd ./.\\nHe/pps is/bez a/at graduate/nn of/in Portland/np-tl University/nn-tl and/cc the/at Northwestern/jj-tl College/nn-tl of/in-tl Law/nn-tl ./.\\nHe/pps is/bez married/vbn and/cc the/at father/nn of/in three/cd children/nns ./.\\n\\n\\n\\tHelping/vbg foreign/jj countries/nns to/to build/vb a/at sound/jj political/jj structure/nn is/bez more/ql important/jj than/cs aiding/vbg them/ppo economically/rb ,/, E./np M./np Martin/np ,/, assistant/nn secretary/nn of/in state/nn for/in economic/jj affairs/nns told/vbd members/nns of/in the/at World/nn-tl Affairs/nns-tl Council/nn-tl Monday/nr night/nn ./.\\n\\n\\n\\tMartin/np ,/, who/wps has/hvz been/ben in/in office/nn in/in Washington/np ,/, D./np C./np ,/, for/in 13/cd months/nns spoke/vbd at/in the/at council's/nn$ annual/jj meeting/nn at/in the/at Multnomah/np-tl Hotel/nn-tl ./.\\nHe/pps told/vbd some/dti 350/cd persons/nns that/cs the/at United/vbn-tl States'/nns$-tl challenge/nn was/bedz to/to help/vb countries/nns build/vb their/pp$ own/jj societies/nns their/pp$ own/jj ways/nns ,/, following/vbg their/pp$ own/jj paths/nns ./.\\n\\n\\n\\t``/`` We/ppss must/md persuade/vb them/ppo to/to enjoy/vb a/at way/nn of/in life/nn which/wdt ,/, if/cs not/* identical/jj ,/, is/bez congenial/jj with/in ours/pp$$ ''/'' ,/, he/pps said/vbd but/cc adding/vbg that/cs if/cs they/ppss do/do not/* develop/vb the/at kind/nn of/in society/nn they/ppss themselves/ppls want/vb it/pps will/md lack/vb ritiuality/nn and/cc loyalty/nn ./.\\n\\n\\n\\nPatience/nn-hl needed/vbn-hl \\nInsuring/vbg that/cs the/at countries/nns have/hv a/at freedom/nn of/in choice/nn ,/, he/pps said/vbd ,/, was/bedz the/at biggest/jjt detriment/nn to/in the/at Soviet/nn-tl Union/nn-tl ./.\\n\\n\\n\\tHe/pps cited/vbd East/jj-tl Germany/np-tl where/wrb after/in 15/cd years/nns of/in Soviet/np rule/nn it/pps has/hvz become/vbn necessary/jj to/to build/vb a/at wall/nn to/to keep/vb the/at people/nns in/rp ,/, and/cc added/vbd ,/, ``/`` so/ql long/rb as/cs people/nns rebel/vb ,/, we/ppss must/md not/* give/vb up/rp ''/'' ./.\\n\\n\\n\\tMartin/np called/vbd for/in patience/nn on/in the/at part/nn of/in Americans/nps ./.\\n\\n\\n\\t``/`` The/at countries/nns are/ber trying/vbg to/to build/vb in/in a/at decade/nn the/at kind/nn of/in society/nn we/ppss took/vbd a/at century/nn to/to build/vb ''/'' ,/, he/pps said/vbd ./.\\n\\n\\n\\tBy/in leaving/vbg our/pp$ doors/nns open/rb the/at United/vbn-tl States/nns-tl gives/vbz other/ap peoples/nns the/at opportunity/nn to/to see/vb us/ppo and/cc to/to compare/vb ,/, he/pps said/vbd ./.\\n\\n\\n\\nIndividual/jj-hl help/nn-hl best/jjt-hl \\n``/`` We/ppss have/hv no/at reason/nn to/to fear/vb failure/nn ,/, but/cc we/ppss must/md be/be extraordinarily/rb patient/jj ''/'' ,/, the/at assistant/nn secretary/nn said/vbd ./.\\n\\n\\n\\tEconomically/rb ,/, Martin/np said/vbd ,/, the/at United/vbn-tl States/nns-tl could/md best/vb help/vb foreign/jj countries/nns by/in helping/vbg them/ppo help/vb themselves/ppls ./.\\nPrivate/jj business/nn is/bez more/ql effective/jj than/cs government/nn aid/nn ,/, he/pps explained/vbd ,/, because/cs individuals/nns are/ber able/jj to/to work/vb with/in the/at people/nns themselves/ppls ./.\\n\\n\\n\\tThe/at United/vbn-tl States/nns-tl must/md plan/vb to/to absorb/vb the/at exported/vbn goods/nns of/in the/at country/nn ,/, at/in what/wdt he/pps termed/vbd a/at ``/`` social/jj cost/nn ''/'' ./.\\n\\n\\n\\tMartin/np said/vbd the/at government/nn has/hvz been/ben working/vbg to/to establish/vb firmer/jjr prices/nns on/in primary/jj products/nns which/wdt may/md involve/vb the/at total/nn income/nn of/in one/cd country/nn ./.\\n\\n\\n\\tThe/at Portland/np school/nn board/nn was/bedz asked/vbn Monday/nr to/to take/vb a/at positive/jj stand/vb towards/in developing/vbg and/cc coordinating/vbg with/in Portland's/np$ civil/jj defense/nn more/ap plans/nns for/in the/at city's/nn$ schools/nns in/in event/nn of/in attack/nn ./.\\n\\n\\n\\tBut/cc there/ex seemed/vbd to/to be/be some/dti difference/nn of/in opinion/nn as/in to/in how/ql far/rb the/at board/nn should/md go/vb ,/, and/cc whose/wp$ advice/nn it/pps should/md follow/vb ./.\\n\\n\\n\\tThe/at board/nn members/nns ,/, after/in hearing/vbg the/at coordination/nn plea/nn from/in Mrs./np Ralph/np H./np Molvar/np ,/, 1409/cd SW/nn Maplecrest/np Dr./nn-tl ,/, said/vbd they/ppss thought/vbd they/ppss had/hvd already/rb been/ben cooperating/vbg ./.\\n\\n\\n\\tChairman/nn-tl C./np Richard/np Mears/np pointed/vbd out/rp that/cs perhaps/rb this/dt was/bedz not/* strictly/rb a/at school/nn board/nn problem/nn ,/, in/in case/nn of/in atomic/jj attack/nn ,/, but/cc that/cs the/at board/nn would/md cooperate/vb so/ql far/rb as/cs possible/jj to/to get/vb the/at children/nns to/to where/wrb the/at parents/nns wanted/vbd them/ppo to/to go/vb ./.\\n\\n\\n\\tDr./nn-tl Melvin/np W./np Barnes/np ,/, superintendent/nn ,/, said/vbd he/pps thought/vbd the/at schools/nns were/bed waiting/vbg for/in some/dti leadership/nn ,/, perhaps/rb on/in the/at national/jj level/nn ,/, to/to make/vb sure/jj that/cs whatever/wdt steps/nns of/in planning/vbg they/ppss took/vbd would/md ``/`` be/be more/ql fruitful/jj ''/'' ,/, and/cc that/cs he/pps had/hvd found/vbn that/cs other/ap school/nn districts/nns were/bed not/* as/ql far/rb along/rb in/in their/pp$ planning/nn as/cs this/dt district/nn ./.\\n\\n\\n\\t``/`` Los/np Angeles/np has/hvz said/vbn they/ppss would/md send/vb the/at children/nns to/in their/pp$ homes/nns in/in case/nn of/in disaster/nn ''/'' ,/, he/pps said/vbd ./.\\n``/`` Nobody/pn really/rb expects/vbz to/to evacuate/vb ./.\\nI/ppss think/vb everybody/pn is/bez agreed/vbn that/cs we/ppss need/vb to/to hear/vb some/dti voice/nn on/in the/at national/jj level/nn that/dt would/md make/vb some/dti sense/nn and/cc in/in which/wdt we/ppss would/md have/hv some/dti confidence/nn in/in following/nn ./.\\n\\n\\n\\tMrs./np Molvar/np ,/, who/wps kept/vbd reiterating/vbg her/pp$ request/nn that/cs they/ppss ``/`` please/vb take/vb a/at stand/nn ''/'' ,/, said/vbd ,/, ``/`` We/ppss must/md have/hv faith/nn in/in somebody/pn --/-- on/in the/at local/jj level/nn ,/, and/cc it/pps wouldn't/md* be/be possible/jj for/cs everyone/pn to/to rush/vb to/in a/at school/nn to/to get/vb their/pp$ children/nns ''/'' ./.\\n\\n\\n\\tDr./nn-tl Barnes/np said/vbd that/cs there/ex seemed/vbd to/to be/be feeling/nn that/cs evacuation/nn plans/nns ,/, even/rb for/in a/at high/jj school/nn where/wrb there/ex were/bed lots/nns of/in cars/nns ``/`` might/md not/* be/be realistic/jj and/cc would/md not/* work/vb ''/'' ./.\\n\\n\\n\\tMrs./np Molvar/np asked/vbd again/rb that/cs the/at board/nn join/vb in/in taking/vbg a/at stand/nn in/in keeping/vbg with/in Jack/np Lowe's/np$ program/nn ./.\\nThe/at board/nn said/vbd it/pps thought/vbd it/pps had/hvd gone/vbn as/ql far/rb as/cs instructed/vbn so/ql far/rb and/cc asked/vbd for/in more/ap information/nn to/to be/be brought/vbn at/in the/at next/ap meeting/nn ./.\\n\\n\\n\\tIt/pps was/bedz generally/rb agreed/vbn that/cs the/at subject/nn was/bedz important/jj and/cc the/at board/nn should/md be/be informed/vbn on/in what/wdt was/bedz done/vbn ,/, is/bez going/vbg to/to be/be done/vbn and/cc what/wdt it/pps thought/vbd should/md be/be done/vbn ./.\\nSalem/np-hl (/(-hl AP/np-hl )/)-hl \\n--/-- The/at statewide/jj meeting/nn of/in war/nn mothers/nns Tuesday/nr in/in Salem/np will/md hear/vb a/at greeting/nn from/in Gov./nn-tl Mark/np Hatfield/np ./.\\n\\n\\n\\tHatfield/np also/rb is/bez scheduled/vbn to/to hold/vb a/at public/jj United/vbn-tl Nations/nns-tl Day/nn-tl reception/nn in/in the/at state/nn capitol/nn on/in Tuesday/nr ./.\\n\\n\\n\\tHis/pp$ schedule/nn calls/vbz for/in a/at noon/nn speech/nn Monday/nr in/in Eugene/np at/in the/at Emerald/nn-tl Empire/nn-tl Kiwanis/np-tl Club/nn-tl ./.\\n\\n\\n\\tHe/pps will/md speak/vb to/in Willamette/np-tl University/nn-tl Young/jj-tl Republicans/nps Thursday/nr night/nn in/in Salem/np ./.\\n\\n\\n\\tOn/in Friday/nr he/pps will/md go/vb to/in Portland/np for/in the/at swearing/nn in/in of/in Dean/np Bryson/np as/cs Multnomah/np-tl County/nn-tl Circuit/nn-tl Judge/nn-tl ./.\\n\\n\\n\\tHe/pps will/md attend/vb a/at meeting/nn of/in the/at Republican/np State/nn-tl Central/jj-tl Committee/nn-tl Saturday/nr in/in Portland/np and/cc see/vb the/at Washington-Oregon/np football/nn game/nn ./.\\n\\n\\n\\tBeaverton/np-tl School/nn-tl District/nn-tl No./nn-tl 48/cd-tl board/nn members/nns examined/vbd blueprints/nns and/cc specifications/nns for/in two/cd proposed/vbn junior/jj high/jj schools/nns at/in a/at Monday/nr night/nn workshop/nn session/nn ./.\\n\\n\\n\\tA/at bond/nn issue/nn which/wdt would/md have/hv provided/vbn some/dti $3.5/nns million/cd for/in construction/nn of/in the/at two/cd 900-student/jj schools/nns was/bedz defeated/vbn by/in district/nn voters/nns in/in January/np ./.\\n\\n\\n\\tLast/ap week/nn the/at board/nn ,/, by/in a/at 4/cd to/in 3/cd vote/nn ,/, decided/vbd to/to ask/vb voters/nns whether/cs they/ppss prefer/vb the/at 6-3-3/cd (/( junior/jj high/jj school/nn )/) system/nn or/cc the/at 8-4/cd system/nn ./.\\nBoard/nn members/nns indicated/vbd Monday/nr night/nn this/dt would/md be/be done/vbn by/in an/at advisory/nn poll/nn to/to be/be taken/vbn on/in Nov./np 15/cd ,/, the/at same/ap date/nn as/cs a/at $581,000/nns bond/nn election/nn for/in the/at construction/nn of/in three/cd new/jj elementary/jj schools/nns ./.\\n\\n\\n\\tSecretary/nn-tl of/in-tl Labor/nn-tl Arthur/np Goldberg/np will/md speak/vb Sunday/nr night/nn at/in the/at Masonic/jj-tl Temple/nn-tl at/in a/at $25-a-plate/nn dinner/nn honoring/vbg Sen./nn-tl Wayne/np L./np Morse/np ,/, Aj/nn ./.\\n\\n\\n\\tThe/at dinner/nn is/bez sponsored/vbn by/in organized/vbn labor/nn and/cc is/bez scheduled/vbn for/in 7/cd p.m./rb ./.\\n\\n\\n\\tSecretary/nn-tl Goldberg/np and/cc Sen./nn-tl Morse/np will/md hold/vb a/at joint/nn press/nn conference/nn at/in the/at Roosevelt/np Hotel/nn-tl at/in 4:30/cd p.m./rb Sunday/nr ,/, Blaine/np Whipple/np ,/, executive/nn secretary/nn of/in the/at Democratic/jj-tl Party/nn-tl of/in Oregon/np ,/, reported/vbd Tuesday/nr ./.\\n\\n\\n\\tOther/ap speakers/nns for/in the/at fund-raising/nn dinner/nn include/vb Reps./nns-tl Edith/np Green/np and/cc Al/np Ullman/np ,/, Labor/nn-tl Commissioner/nn-tl Norman/np Nilsen/np and/cc Mayor/nn-tl Terry/np Schrunk/np ,/, all/abn Democrats/nps ./.\\nOak/nn-tl-hl Grove/nn-tl-hl (/(-hl special/jj-hl )/)-hl \\n--/-- Three/cd positions/nns on/in the/at Oak/nn-tl Lodge/nn-tl Water/nn-tl district/nn board/nn of/in directors/nns have/hv attracted/vbn 11/cd candidates/nns ./.\\nThe/at election/nn will/md be/be Dec./np 4/cd from/in 8/cd a.m./rb to/in 8/cd p.m./rb ./.\\nPolls/nns will/md be/be in/in the/at water/nn office/nn ./.\\n\\n\\n\\tIncumbent/jj Richard/np Salter/np seeks/vbz re-election/nn and/cc is/bez opposed/vbn by/in Donald/np Huffman/np for/in the/at five-year/jj term/nn ./.\\nIncumbent/jj William/np Brod/np is/bez opposed/vbn in/in his/pp$ re-election/nn bid/nn by/in Barbara/np Njust/np ,/, Miles/np C./np Bubenik/np and/cc Frank/np Lee/np ./.\\n\\n\\n\\tFive/cd candidates/nns seek/vb the/at place/nn vacated/vbn by/in Secretary/nn-tl Hugh/np G./np Stout/np ./.\\nSeeking/vbg this/dt two-year/jj term/nn are/ber James/np Culbertson/np ,/, Dwight/np M./np Steeves/np ,/, James/np C./np Piersee/np ,/, W.M./np Sexton/np and/cc Theodore/np W./np Heitschmidt/np ./.\\n\\n\\n\\tA/at stronger/jjr stand/nn on/in their/pp$ beliefs/nns and/cc a/at firmer/jjr grasp/nn on/in their/pp$ future/nn were/bed taken/vbn Friday/nr by/in delegates/nns to/in the/at 29th/od general/jj council/nn of/in the/at Assemblies/nns-tl of/in-tl God/np-tl ,/, in/in session/nn at/in the/at Memorial/jj-tl Coliseum/np-tl ./.\\n\\n\\n\\tThe/at council/nn revised/vbd ,/, in/in an/at effort/nn to/to strengthen/vb ,/, the/at denomination's/nn$ 16/cd basic/jj beliefs/nns adopted/vbn in/in 1966/cd ./.\\n\\n\\n\\tThe/at changes/nns ,/, unanimously/rb adopted/vbn ,/, were/bed felt/vbn necessary/jj in/in the/at face/nn of/in modern/jj trends/nns away/rb from/in the/at Bible/np ./.\\nThe/at council/nn agreed/vbd it/pps should/md more/ql firmly/rb state/vb its/pp$ belief/nn in/in and/cc dependence/nn on/in the/at Bible/np ./.\\n\\n\\n\\tAt/in the/at adoption/nn ,/, the/at Rev./np T./np F./np Zimmerman/np ,/, general/jj superintendent/nn ,/, commented/vbd ,/, ``/`` The/at-tl Assemblies/nns-tl of/in-tl God/np has/hvz been/ben a/at bulwark/nn for/in fundamentalism/nn in/in these/dts modern/jj days/nns and/cc has/hvz ,/, without/in compromise/nn ,/, stood/vbd for/in the/at great/jj truths/nns of/in the/at Bible/np for/in which/wdt men/nns in/in the/at past/nn have/hv been/ben willing/jj to/to give/vb their/pp$ lives/nns ''/'' ./.\\n\\n\\n\\nNew/jj-hl point/nn-hl added/vbn-hl \\nMany/ap changes/nns involved/vbd minor/jj editing/nn and/cc clarification/nn ;/. ;/.\\nhowever/wrb ,/, the/at first/od belief/nn stood/vbd for/in entire/jj revision/nn with/in a/at new/jj third/od point/nn added/vbn to/in the/at list/nn ./.\\n\\n\\n\\tThe/at first/od of/in 16/cd beliefs/nns of/in the/at denomination/nn ,/, now/rb reads/vbz :/: \\n\\n\\t``/`` The/at scriptures/nns ,/, both/abx Old/jj-tl and/cc New/jj-tl Testament/nn-tl ,/, are/ber verbally/rb inspired/vbn of/in God/np and/cc are/ber the/at revelation/nn of/in God/np to/in man/nn ,/, the/at infallible/jj ,/, authoritative/jj rule/nn of/in faith/nn and/cc conduct/nn ''/'' ./.\\n\\n\\n\\tThe/at third/od belief/nn ,/, in/in six/cd points/nns ,/, emphasizes/vbz the/at Diety/nn-tl of/in the/at Lord/nn-tl Jesus/np Christ/np ,/, and/cc :/: \\n\\n\\t--/-- emphasizes/vbz the/at Virgin/nn-tl birth/nn \\n\\n\\t--/-- the/at sinless/jj life/nn of/in Christ/np \\n\\n\\t--/-- His/pp$ miracles/nns \\n\\n\\t--/-- His/pp$ substitutionary/jj work/nn on/in the/at cross/nn \\n\\n\\t--/-- His/pp$ bodily/jj resurrection/nn from/in the/at dead/jj \\n\\n\\t--/-- and/cc His/pp$ exaltation/nn to/in the/at right/jj hand/nn of/in God/np ./.\\n\\n\\n\\nSuper/nn-hl again/rb-hl elected/vbn-hl \\nFriday/nr afternoon/nn the/at Rev./np T./np F./np Zimmerman/np was/bedz reelected/vbn for/in his/pp$ second/od consecutive/jj two-year/jj term/nn as/cs general/jj superintendent/nn of/in Assemblies/nns-tl of/in-tl God/np-tl ./.\\nHis/pp$ offices/nns are/ber in/in Springfield/np ,/, Mo./np ./.\\nElection/nn came/vbd on/in the/at nominating/vbg ballot/nn ./.\\n\\n\\n\\tFriday/nr night/nn the/at delegates/nns heard/vbd the/at need/nn for/in their/pp$ forthcoming/jj program/nn ,/, ``/`` Breakthrough/nn-tl ''/'' scheduled/vbn to/to fill/vb the/at churches/nns for/in the/at next/ap two/cd years/nns ./.\\nIn/in his/pp$ opening/vbg address/nn Wednesday/nr the/at Rev./np Mr./np Zimmerman/np ,/, urged/vbd the/at delegates/nns to/to consider/vb a/at 10-year/jj expansion/nn program/nn ,/, with/in ``/`` Breakthrough/nn-tl ''/'' the/at theme/nn for/in the/at first/od two/cd years/nns ./.\\n\\n\\n\\tThe/at Rev./np R./np L./np Brandt/np ,/, national/jj secretary/nn of/in the/at home/nr missions/nns department/nn ,/, stressed/vbd the/at need/nn for/in the/at first/od two/cd years'/nns$ work/nn ./.\\n\\n\\n\\t``/`` Surveys/nns show/vb that/cs one/cd out/in of/in three/cd Americans/nps has/hvz vital/jj contact/nn with/in the/at church/nn ./.\\nThis/dt means/vbz that/cs more/ap than/in 100/cd million/cd have/hv no/at vital/jj touch/nn with/in the/at church/nn or/cc religious/jj life/nn ''/'' ,/, he/pps told/vbd delegates/nns Friday/nr ./.\\n\\n\\n\\nChurch/nn-hl loses/vbz-hl pace/nn-hl \\nTalking/vbg of/in the/at rapid/jj population/nn growth/nn (/( upwards/rb of/in 12,000/cd babies/nns born/vbn daily/rb )/) with/in an/at immigrant/nn entering/vbg the/at United/vbn-tl States/nns-tl every/at 1-1/2/cd minutes/nns ,/, he/pps said/vbd ``/`` our/pp$ organization/nn has/hvz not/* been/ben keeping/vbg pace/nn with/in this/dt challenge/nn ''/'' ./.\\n\\n\\n\\t``/`` In/in 35/cd years/nns we/ppss have/hv opened/vbn 7,000/cd churches/nns ''/'' ,/, the/at Rev./np Mr./np Brandt/np said/vbd ,/, adding/vbg that/cs the/at denomination/nn had/hvd a/at national/jj goal/nn of/in one/cd church/nn for/in every/at 10,000/cd persons/nns ./.\\n\\n\\n\\t``/`` In/in this/dt light/nn we/ppss need/vb 1,000/cd churches/nns in/in Illinois/np ,/, where/wrb we/ppss have/hv 200/cd ;/. ;/.\\n800/cd in/in Southern/jj-tl New/jj-tl England/np ,/, we/ppss have/hv 60/cd ;/. ;/.\\nwe/ppss need/vb 100/cd in/in Rhode/np-tl Island/nn-tl ,/, we/ppss have/hv none/pn ''/'' ,/, he/pps said/vbd ./.\\n\\n\\n\\tTo/to step/vb up/rp the/at denomination's/nn$ program/nn ,/, the/at Rev./np Mr./np Brandt/np suggested/vbd the/at vision/nn of/in 8,000/cd new/jj Assemblies/nns-tl of/in-tl God/np-tl churches/nns in/in the/at next/ap 10/cd years/nns ./.\\n\\n\\n\\tTo/to accomplish/vb this/dt would/md necessitate/vb some/dti changes/nns in/in methods/nns ,/, he/pps said/vbd ./.\\n\\n\\n\\n'/' church/nn-hl meets/vbz-hl change/nn-hl '/' \\n``/`` The/at church's/nn$ ability/nn to/to change/vb her/pp$ methods/nns is/bez going/vbg to/to determine/vb her/pp$ ability/nn to/to meet/vb the/at challenge/nn of/in this/dt hour/nn ''/'' ./.\\n\\n\\n\\tA/at capsule/nn view/nn of/in proposed/vbn plans/nns includes/vbz :/: \\n\\n\\t--/-- Encouraging/vbg by/in every/at means/nns ,/, all/abn existing/vbg Assemblies/nns-tl of/in-tl God/np-tl churches/nns to/to start/vb new/jj churches/nns ./.\\n\\n\\n\\t--/-- Engaging/vbg mature/jj ,/, experienced/vbn men/nns to/to pioneer/vb or/cc open/vb new/jj churches/nns in/in strategic/jj population/nn centers/nns ./.\\n\\n\\n\\t--/-- Surrounding/vbg pioneer/nn pastors/nns with/in vocational/jj volunteers/nns (/( laymen/nns ,/, who/wps will/md be/be urged/vbn to/to move/vb into/in the/at area/nn of/in new/jj churches/nns in/in the/at interest/nn of/in lending/vbg their/pp$ support/nn to/in the/at new/jj project/nn )/) ./.\\n\\n\\n\\t--/-- Arranging/vbg for/in ministerial/jj graduates/nns to/to spend/vb from/in 6-12/cd months/nns as/cs apprentices/nns in/in well-established/jj churches/nns ./.\\n\\n\\n\\tU.S./np-tl Dist./nn-tl Judge/nn-tl Charles/np L./np Powell/np denied/vbd all/abn motions/nns made/vbn by/in defense/nn attorneys/nns Monday/nr in/in Portland's/np$ insurance/nn fraud/nn trial/nn ./.\\n\\n\\n\\tDenials/nns were/bed of/in motions/nns of/in dismissal/nn ,/, continuance/nn ,/, mistrial/nn ,/, separate/jj trial/nn ,/, acquittal/nn ,/, striking/nn of/in testimony/nn and/cc directed/vbn verdict/nn ./.\\n\\n\\n\\tIn/in denying/vbg motions/nns for/in dismissal/nn ,/, Judge/nn-tl Powell/np stated/vbd that/cs mass/nn trials/nns have/hv been/ben upheld/vbn as/cs proper/jj in/in other/ap courts/nns and/cc that/cs ``/`` a/at person/nn may/md join/vb a/at conspiracy/nn without/in knowing/vbg who/wps all/abn of/in the/at conspirators/nns are/ber ''/'' ./.\\n\\n\\n\\tAttorney/nn Dwight/np L./np Schwab/np ,/, in/in behalf/nn of/in defendant/nn Philip/np Weinstein/np ,/, argued/vbd there/ex is/bez no/at evidence/nn linking/vbg Weinstein/np to/in the/at conspiracy/nn ,/, but/cc Judge/nn-tl Powell/np declared/vbd this/dt is/bez a/at matter/nn for/cs the/at jury/nn to/to decide/vb ./.\\n\\n\\n\\nProof/nn-hl lack/nn-hl charged/vbn-hl \\nSchwab/np also/rb declared/vbd there/ex is/bez no/at proof/nn of/in Weinstein's/np$ entering/vbg a/at conspiracy/nn to/to use/vb the/at U.S./np mails/nns to/to defraud/vb ,/, to/in which/wdt federal/jj prosecutor/nn A./np Lawrence/np Burbank/np replied/vbd :/: \\n\\n\\t``/`` It/pps is/bez not/* necessary/jj that/cs a/at defendant/nn actually/rb have/hv conpired/vbn to/to use/vb the/at U.S./np mails/nns to/to defraud/vb as/ql long/rb as/cs there/ex is/bez evidence/nn of/in a/at conspiracy/nn ,/, and/cc the/at mails/nns were/bed then/rb used/vbn to/to carry/vb it/ppo out/rp ''/'' ./.\\n\\n\\n\\tIn/in the/at afternoon/nn ,/, defense/nn attorneys/nns began/vbd the/at presentation/nn of/in their/pp$ cases/nns with/in opening/vbg statements/nns ,/, some/dti of/in which/wdt had/hvd been/ben deferred/vbn until/in after/in the/at government/nn had/hvd called/vbn witnesses/nns and/cc presented/vbn its/pp$ case/nn ./.\\n\\n\""
      ]
     },
     "execution_count": 5,
     "metadata": {},
     "output_type": "execute_result"
    }
   ],
   "source": [
    "#Raw files\n",
    "brown.raw('ca10')"
   ]
  },
  {
   "cell_type": "code",
   "execution_count": 6,
   "id": "b2b0d9a7",
   "metadata": {},
   "outputs": [
    {
     "data": {
      "text/plain": [
       "['Vincent', 'G.', 'Ierulli', 'has', 'been', ...]"
      ]
     },
     "execution_count": 6,
     "metadata": {},
     "output_type": "execute_result"
    }
   ],
   "source": [
    "#Words in a raw file\n",
    "brown.words('ca10')"
   ]
  },
  {
   "cell_type": "code",
   "execution_count": 7,
   "id": "fcae4864",
   "metadata": {},
   "outputs": [
    {
     "data": {
      "text/plain": [
       "[('the', 117),\n",
       " (',', 111),\n",
       " ('.', 85),\n",
       " ('of', 64),\n",
       " ('to', 62),\n",
       " ('in', 43),\n",
       " ('and', 36),\n",
       " ('a', 34),\n",
       " ('for', 29),\n",
       " ('``', 22)]"
      ]
     },
     "execution_count": 7,
     "metadata": {},
     "output_type": "execute_result"
    }
   ],
   "source": [
    "#Most frequent words in a raw file\n",
    "freq = nltk.FreqDist(brown.words('ca10'))\n",
    "freq.most_common(10)"
   ]
  },
  {
   "cell_type": "markdown",
   "id": "4e035ed0",
   "metadata": {},
   "source": [
    "# Size and Tokens"
   ]
  },
  {
   "cell_type": "code",
   "execution_count": 26,
   "id": "1f071919",
   "metadata": {},
   "outputs": [
    {
     "data": {
      "text/plain": [
       "[('the', 62713),\n",
       " (',', 58334),\n",
       " ('.', 49346),\n",
       " ('of', 36080),\n",
       " ('and', 27915),\n",
       " ('to', 25732),\n",
       " ('a', 21881),\n",
       " ('in', 19536),\n",
       " ('that', 10237),\n",
       " ('is', 10011),\n",
       " ('was', 9777),\n",
       " ('for', 8841),\n",
       " ('``', 8837),\n",
       " (\"''\", 8789),\n",
       " ('The', 7258),\n",
       " ('with', 7012),\n",
       " ('it', 6723),\n",
       " ('as', 6706),\n",
       " ('he', 6566),\n",
       " ('his', 6466),\n",
       " ('on', 6395),\n",
       " ('be', 6344),\n",
       " (';', 5566),\n",
       " ('I', 5161),\n",
       " ('by', 5103),\n",
       " ('had', 5102),\n",
       " ('at', 4963),\n",
       " ('?', 4693),\n",
       " ('not', 4423),\n",
       " ('are', 4333),\n",
       " ('from', 4207),\n",
       " ('or', 4118),\n",
       " ('this', 3966),\n",
       " ('have', 3892),\n",
       " ('an', 3542),\n",
       " ('which', 3540),\n",
       " ('--', 3432),\n",
       " ('were', 3279),\n",
       " ('but', 3007),\n",
       " ('He', 2982),\n",
       " ('her', 2885),\n",
       " ('one', 2873),\n",
       " ('they', 2773),\n",
       " ('you', 2766),\n",
       " ('all', 2726),\n",
       " ('would', 2677),\n",
       " ('him', 2576),\n",
       " ('their', 2562),\n",
       " ('been', 2470),\n",
       " (')', 2466)]"
      ]
     },
     "execution_count": 26,
     "metadata": {},
     "output_type": "execute_result"
    }
   ],
   "source": [
    "freq = nltk.FreqDist(brown.words())\n",
    "freq.most_common(50)"
   ]
  },
  {
   "cell_type": "markdown",
   "id": "495709fd",
   "metadata": {},
   "source": [
    "# Brown Corpus Categories"
   ]
  },
  {
   "cell_type": "code",
   "execution_count": 9,
   "id": "b7625871",
   "metadata": {},
   "outputs": [
    {
     "data": {
      "text/plain": [
       "['adventure',\n",
       " 'belles_lettres',\n",
       " 'editorial',\n",
       " 'fiction',\n",
       " 'government',\n",
       " 'hobbies',\n",
       " 'humor',\n",
       " 'learned',\n",
       " 'lore',\n",
       " 'mystery',\n",
       " 'news',\n",
       " 'religion',\n",
       " 'reviews',\n",
       " 'romance',\n",
       " 'science_fiction']"
      ]
     },
     "execution_count": 9,
     "metadata": {},
     "output_type": "execute_result"
    }
   ],
   "source": [
    "brown.categories()"
   ]
  },
  {
   "cell_type": "markdown",
   "id": "57a4fa21",
   "metadata": {},
   "source": [
    "# 2)Size of word tokens"
   ]
  },
  {
   "cell_type": "code",
   "execution_count": 10,
   "id": "ccfd9eee",
   "metadata": {},
   "outputs": [
    {
     "data": {
      "text/plain": [
       "1161192"
      ]
     },
     "execution_count": 10,
     "metadata": {},
     "output_type": "execute_result"
    }
   ],
   "source": [
    "len(brown.words())"
   ]
  },
  {
   "cell_type": "markdown",
   "id": "9a75ce07",
   "metadata": {},
   "source": [
    "# 3)Size of word types"
   ]
  },
  {
   "cell_type": "code",
   "execution_count": 11,
   "id": "7a0ce785",
   "metadata": {},
   "outputs": [
    {
     "data": {
      "text/plain": [
       "56057"
      ]
     },
     "execution_count": 11,
     "metadata": {},
     "output_type": "execute_result"
    }
   ],
   "source": [
    "len(set(brown.words()))"
   ]
  },
  {
   "cell_type": "markdown",
   "id": "88a9695f",
   "metadata": {},
   "source": [
    "# 4)Size of category 'government'"
   ]
  },
  {
   "cell_type": "code",
   "execution_count": 12,
   "id": "9e00c33d",
   "metadata": {},
   "outputs": [
    {
     "data": {
      "text/plain": [
       "70117"
      ]
     },
     "execution_count": 12,
     "metadata": {},
     "output_type": "execute_result"
    }
   ],
   "source": [
    "government = brown.words(categories='government')\n",
    "len(government)"
   ]
  },
  {
   "cell_type": "code",
   "execution_count": 13,
   "id": "fa0c6d80",
   "metadata": {},
   "outputs": [
    {
     "data": {
      "text/plain": [
       "[('the', 4143),\n",
       " (',', 3405),\n",
       " ('of', 3031),\n",
       " ('.', 2493),\n",
       " ('and', 1923),\n",
       " ('to', 1829),\n",
       " ('in', 1319),\n",
       " ('a', 867),\n",
       " ('for', 806),\n",
       " ('is', 649),\n",
       " ('be', 600),\n",
       " ('that', 489),\n",
       " ('The', 478),\n",
       " ('as', 453),\n",
       " (';', 444),\n",
       " ('by', 428),\n",
       " ('are', 415),\n",
       " ('on', 401),\n",
       " ('or', 399),\n",
       " ('with', 358),\n",
       " (')', 345),\n",
       " ('this', 344),\n",
       " ('(', 342),\n",
       " ('which', 263),\n",
       " ('from', 244),\n",
       " ('will', 244),\n",
       " ('at', 235),\n",
       " ('have', 223),\n",
       " ('was', 223),\n",
       " ('it', 218),\n",
       " ('an', 208),\n",
       " ('not', 207),\n",
       " ('other', 191),\n",
       " ('year', 183),\n",
       " ('such', 182),\n",
       " ('their', 174),\n",
       " ('States', 162),\n",
       " ('all', 158),\n",
       " ('United', 155),\n",
       " ('may', 153),\n",
       " ('has', 153),\n",
       " ('In', 148),\n",
       " ('our', 144),\n",
       " ('its', 143),\n",
       " ('any', 142),\n",
       " ('his', 141),\n",
       " ('--', 139),\n",
       " ('been', 130),\n",
       " ('were', 126),\n",
       " ('``', 125)]"
      ]
     },
     "execution_count": 13,
     "metadata": {},
     "output_type": "execute_result"
    }
   ],
   "source": [
    "# Most frequent tokens in government\n",
    "freq1 = nltk.FreqDist(brown.words(categories='government'))\n",
    "freq1.most_common(50)"
   ]
  },
  {
   "cell_type": "markdown",
   "id": "a5e80b22",
   "metadata": {},
   "source": [
    "# 5)List the most frequent tokens"
   ]
  },
  {
   "cell_type": "code",
   "execution_count": 14,
   "id": "d670f2a5",
   "metadata": {},
   "outputs": [
    {
     "data": {
      "text/plain": [
       "[('the', 62713)]"
      ]
     },
     "execution_count": 14,
     "metadata": {},
     "output_type": "execute_result"
    }
   ],
   "source": [
    "freq.most_common(1)"
   ]
  },
  {
   "cell_type": "markdown",
   "id": "e034b812",
   "metadata": {},
   "source": [
    "# 6)Count the number of sentences"
   ]
  },
  {
   "cell_type": "code",
   "execution_count": 15,
   "id": "d6866367",
   "metadata": {},
   "outputs": [
    {
     "data": {
      "text/plain": [
       "57340"
      ]
     },
     "execution_count": 15,
     "metadata": {},
     "output_type": "execute_result"
    }
   ],
   "source": [
    "sentences = brown.sents()\n",
    "len(sentences)"
   ]
  },
  {
   "cell_type": "markdown",
   "id": "b347b9d9",
   "metadata": {},
   "source": [
    "# Exploring corpora available in NLTK"
   ]
  },
  {
   "cell_type": "code",
   "execution_count": 17,
   "id": "55f3966b",
   "metadata": {},
   "outputs": [],
   "source": [
    "from nltk.corpus import reuters\n",
    "from nltk.corpus import movie_reviews\n",
    "from nltk.corpus import indian"
   ]
  },
  {
   "cell_type": "code",
   "execution_count": 18,
   "id": "ff5d9584",
   "metadata": {},
   "outputs": [
    {
     "data": {
      "text/plain": [
       "[('.', 94687),\n",
       " (',', 72360),\n",
       " ('the', 58251),\n",
       " ('of', 35979),\n",
       " ('to', 34035),\n",
       " ('in', 26478),\n",
       " ('said', 25224),\n",
       " ('and', 25043),\n",
       " ('a', 23492),\n",
       " ('mln', 18037)]"
      ]
     },
     "execution_count": 18,
     "metadata": {},
     "output_type": "execute_result"
    }
   ],
   "source": [
    "freq = nltk.FreqDist(reuters.words())\n",
    "freq.most_common(10)"
   ]
  },
  {
   "cell_type": "code",
   "execution_count": 19,
   "id": "f309a7fc",
   "metadata": {},
   "outputs": [
    {
     "data": {
      "text/plain": [
       "[(',', 77717),\n",
       " ('the', 76529),\n",
       " ('.', 65876),\n",
       " ('a', 38106),\n",
       " ('and', 35576),\n",
       " ('of', 34123),\n",
       " ('to', 31937),\n",
       " (\"'\", 30585),\n",
       " ('is', 25195),\n",
       " ('in', 21822)]"
      ]
     },
     "execution_count": 19,
     "metadata": {},
     "output_type": "execute_result"
    }
   ],
   "source": [
    "freq = nltk.FreqDist(movie_reviews.words())\n",
    "freq.most_common(10)"
   ]
  },
  {
   "cell_type": "code",
   "execution_count": 20,
   "id": "7dca3251",
   "metadata": {},
   "outputs": [
    {
     "data": {
      "text/plain": [
       "[('.', 2195),\n",
       " (',', 1444),\n",
       " ('৷', 840),\n",
       " ('।', 493),\n",
       " ('आहे', 406),\n",
       " ('के', 387),\n",
       " ('में', 268),\n",
       " ('की', 253),\n",
       " ('ने', 232),\n",
       " ('या', 222)]"
      ]
     },
     "execution_count": 20,
     "metadata": {},
     "output_type": "execute_result"
    }
   ],
   "source": [
    "freq = nltk.FreqDist(indian.words())\n",
    "freq.most_common(10)"
   ]
  },
  {
   "cell_type": "code",
   "execution_count": 21,
   "id": "7336cf52",
   "metadata": {},
   "outputs": [
    {
     "data": {
      "text/plain": [
       "['acq',\n",
       " 'alum',\n",
       " 'barley',\n",
       " 'bop',\n",
       " 'carcass',\n",
       " 'castor-oil',\n",
       " 'cocoa',\n",
       " 'coconut',\n",
       " 'coconut-oil',\n",
       " 'coffee',\n",
       " 'copper',\n",
       " 'copra-cake',\n",
       " 'corn',\n",
       " 'cotton',\n",
       " 'cotton-oil',\n",
       " 'cpi',\n",
       " 'cpu',\n",
       " 'crude',\n",
       " 'dfl',\n",
       " 'dlr',\n",
       " 'dmk',\n",
       " 'earn',\n",
       " 'fuel',\n",
       " 'gas',\n",
       " 'gnp',\n",
       " 'gold',\n",
       " 'grain',\n",
       " 'groundnut',\n",
       " 'groundnut-oil',\n",
       " 'heat',\n",
       " 'hog',\n",
       " 'housing',\n",
       " 'income',\n",
       " 'instal-debt',\n",
       " 'interest',\n",
       " 'ipi',\n",
       " 'iron-steel',\n",
       " 'jet',\n",
       " 'jobs',\n",
       " 'l-cattle',\n",
       " 'lead',\n",
       " 'lei',\n",
       " 'lin-oil',\n",
       " 'livestock',\n",
       " 'lumber',\n",
       " 'meal-feed',\n",
       " 'money-fx',\n",
       " 'money-supply',\n",
       " 'naphtha',\n",
       " 'nat-gas',\n",
       " 'nickel',\n",
       " 'nkr',\n",
       " 'nzdlr',\n",
       " 'oat',\n",
       " 'oilseed',\n",
       " 'orange',\n",
       " 'palladium',\n",
       " 'palm-oil',\n",
       " 'palmkernel',\n",
       " 'pet-chem',\n",
       " 'platinum',\n",
       " 'potato',\n",
       " 'propane',\n",
       " 'rand',\n",
       " 'rape-oil',\n",
       " 'rapeseed',\n",
       " 'reserves',\n",
       " 'retail',\n",
       " 'rice',\n",
       " 'rubber',\n",
       " 'rye',\n",
       " 'ship',\n",
       " 'silver',\n",
       " 'sorghum',\n",
       " 'soy-meal',\n",
       " 'soy-oil',\n",
       " 'soybean',\n",
       " 'strategic-metal',\n",
       " 'sugar',\n",
       " 'sun-meal',\n",
       " 'sun-oil',\n",
       " 'sunseed',\n",
       " 'tea',\n",
       " 'tin',\n",
       " 'trade',\n",
       " 'veg-oil',\n",
       " 'wheat',\n",
       " 'wpi',\n",
       " 'yen',\n",
       " 'zinc']"
      ]
     },
     "execution_count": 21,
     "metadata": {},
     "output_type": "execute_result"
    }
   ],
   "source": [
    "reuters.categories()"
   ]
  },
  {
   "cell_type": "code",
   "execution_count": 22,
   "id": "df2f2ed4",
   "metadata": {},
   "outputs": [
    {
     "data": {
      "text/plain": [
       "['neg', 'pos']"
      ]
     },
     "execution_count": 22,
     "metadata": {},
     "output_type": "execute_result"
    }
   ],
   "source": [
    "movie_reviews.categories()"
   ]
  },
  {
   "cell_type": "code",
   "execution_count": 23,
   "id": "f28cfbc8",
   "metadata": {},
   "outputs": [
    {
     "data": {
      "text/plain": [
       "1583820"
      ]
     },
     "execution_count": 23,
     "metadata": {},
     "output_type": "execute_result"
    }
   ],
   "source": [
    "len(movie_reviews.words())"
   ]
  },
  {
   "cell_type": "code",
   "execution_count": 24,
   "id": "0592ae71",
   "metadata": {},
   "outputs": [
    {
     "data": {
      "text/plain": [
       "1720901"
      ]
     },
     "execution_count": 24,
     "metadata": {},
     "output_type": "execute_result"
    }
   ],
   "source": [
    "len(reuters.words())"
   ]
  },
  {
   "cell_type": "code",
   "execution_count": 25,
   "id": "e355ce67",
   "metadata": {},
   "outputs": [
    {
     "data": {
      "text/plain": [
       "48754"
      ]
     },
     "execution_count": 25,
     "metadata": {},
     "output_type": "execute_result"
    }
   ],
   "source": [
    "len(indian.words())"
   ]
  }
 ],
 "metadata": {
  "kernelspec": {
   "display_name": "Python 3",
   "language": "python",
   "name": "python3"
  },
  "language_info": {
   "codemirror_mode": {
    "name": "ipython",
    "version": 3
   },
   "file_extension": ".py",
   "mimetype": "text/x-python",
   "name": "python",
   "nbconvert_exporter": "python",
   "pygments_lexer": "ipython3",
   "version": "3.8.8"
  }
 },
 "nbformat": 4,
 "nbformat_minor": 5
}
